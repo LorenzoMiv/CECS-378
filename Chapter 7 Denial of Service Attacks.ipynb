{
 "cells": [
  {
   "cell_type": "code",
   "execution_count": null,
   "metadata": {
    "vscode": {
     "languageId": "plaintext"
    }
   },
   "outputs": [],
   "source": [
    "Chapter 7 Denial Of Service Attacks: \n",
    "    7.1 Denial of Service Attacks: \n",
    "        - Denial of Service: An action that prevents or impairs the authorized use of networks, systems, \n",
    "        or applications by exhausting resources such as CPU, memory, bandwidth, and disk space. \n",
    "            - Resources attacked: \n",
    "                1) Network Bandwidth \n",
    "                    - Flooding: Traffic overwhelms any legitimate traffic, effectively denying legitimate users\n",
    "                2) System Resources\n",
    "                    - Specific packets may be sent to limit resouces available on the system\n",
    "                    - Poison Packet: uses packets whose structure triggers a bug in the system's network handling\n",
    "                    software\n",
    "                3) Application Resources\n",
    "                    - Cyberslam: using valid requests to overload a system, usually with queries \n",
    "        - Classic DoS Attacks: \n",
    "            - Ping Flood: by using two networks one larger than the other, you can send a large amount of Ping\n",
    "            requests to the smaller network and flood the network flow because it cannot handle the large amount\n",
    "            of requests \n",
    "        - Source Address Spoofing: \n",
    "            - forged Source addresses \n",
    "            - Backscatter traffic: ICMP (Internet Control Message Protocol) echo response packets generated in response to a \n",
    "            ping flood using randomly spoofed source addresses\n",
    "        - SYN Spoofing: \n",
    "            - Attacks the abilityy of a network server to respond to TCP (Transmission Control Protocol) \n",
    "            connection requests by overflowing the tables used to manage such connections\n",
    "    7.2 Flooding Attacks: \n",
    "        - Flood a network link to a server with a torrent of malicious packets competing with valid traffic\n",
    "        - Common flooding uses ICMP, UDP, or TCP SYN\n",
    "        -ICMP Flood: \n",
    "            - Ping floods use ICMP echo request packets \n",
    "        - UDP Flood: \n",
    "            - User Datagram Protocol packets directed to some port number, and hence potential service\n",
    "        - TCP SYN Flood: \n",
    "            - total volume of packets rather than the system code like SYN spoofing\n",
    "            - Sends massive numbers of SYN requests to a server to overwhelm it with open connections\n",
    "    7.3 Distributed Denial-Of-Service Attacks: \n",
    "        \n",
    "\n"
   ]
  }
 ],
 "metadata": {
  "language_info": {
   "name": "python"
  },
  "orig_nbformat": 4
 },
 "nbformat": 4,
 "nbformat_minor": 2
}
